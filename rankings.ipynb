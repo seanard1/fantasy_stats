{
 "cells": [
  {
   "cell_type": "code",
   "execution_count": 2,
   "id": "80e2b13a",
   "metadata": {},
   "outputs": [],
   "source": [
    "import matplotlib.pyplot as plt\n",
    "import pandas as pd\n",
    "import numpy as np\n",
    "import requests\n",
    "import time\n",
    "from scipy.stats import linregress\n",
    "from pprint import pprint\n",
    "from datetime import datetime, timedelta, timezone\n",
    "import pytz\n",
    "import scipy.stats\n",
    "from dateutil.relativedelta import relativedelta\n",
    "\n",
    "import warnings\n",
    "\n",
    "# Suppress the specific warnings\n",
    "warnings.filterwarnings(\"ignore\")\n",
    "\n",
    "today = datetime.utcnow()\n",
    "\n",
    "from api_keys import espn_link"
   ]
  },
  {
   "cell_type": "markdown",
   "id": "f1807c5d",
   "metadata": {},
   "source": [
    "# Pull in the data files from scrape"
   ]
  },
  {
   "cell_type": "code",
   "execution_count": 3,
   "id": "c12ea654",
   "metadata": {},
   "outputs": [
    {
     "ename": "FileNotFoundError",
     "evalue": "[Errno 2] No such file or directory: 'data/rankings_worksheet_2023-11-14.xlsx'",
     "output_type": "error",
     "traceback": [
      "\u001b[1;31m---------------------------------------------------------------------------\u001b[0m",
      "\u001b[1;31mFileNotFoundError\u001b[0m                         Traceback (most recent call last)",
      "Cell \u001b[1;32mIn[3], line 30\u001b[0m\n\u001b[0;32m     27\u001b[0m player_bios \u001b[38;5;241m=\u001b[39m pd\u001b[38;5;241m.\u001b[39mread_csv(file_name, index_col\u001b[38;5;241m=\u001b[39m\u001b[38;5;28;01mFalse\u001b[39;00m)\n\u001b[0;32m     29\u001b[0m file_name \u001b[38;5;241m=\u001b[39m \u001b[38;5;124mf\u001b[39m\u001b[38;5;124m\"\u001b[39m\u001b[38;5;124mdata/rankings_worksheet_\u001b[39m\u001b[38;5;132;01m{\u001b[39;00m(today\u001b[38;5;241m-\u001b[39mtimedelta(days\u001b[38;5;241m=\u001b[39m\u001b[38;5;241m6\u001b[39m))\u001b[38;5;241m.\u001b[39mstrftime(\u001b[38;5;124m'\u001b[39m\u001b[38;5;124m%\u001b[39m\u001b[38;5;124mY-\u001b[39m\u001b[38;5;124m%\u001b[39m\u001b[38;5;124mm-\u001b[39m\u001b[38;5;132;01m%d\u001b[39;00m\u001b[38;5;124m'\u001b[39m)\u001b[38;5;132;01m}\u001b[39;00m\u001b[38;5;124m.xlsx\u001b[39m\u001b[38;5;124m\"\u001b[39m\n\u001b[1;32m---> 30\u001b[0m rankings \u001b[38;5;241m=\u001b[39m \u001b[43mpd\u001b[49m\u001b[38;5;241;43m.\u001b[39;49m\u001b[43mread_excel\u001b[49m\u001b[43m(\u001b[49m\u001b[43mfile_name\u001b[49m\u001b[43m)\u001b[49m\n",
      "File \u001b[1;32m~\\anaconda3\\envs\\dev\\lib\\site-packages\\pandas\\util\\_decorators.py:211\u001b[0m, in \u001b[0;36mdeprecate_kwarg.<locals>._deprecate_kwarg.<locals>.wrapper\u001b[1;34m(*args, **kwargs)\u001b[0m\n\u001b[0;32m    209\u001b[0m     \u001b[38;5;28;01melse\u001b[39;00m:\n\u001b[0;32m    210\u001b[0m         kwargs[new_arg_name] \u001b[38;5;241m=\u001b[39m new_arg_value\n\u001b[1;32m--> 211\u001b[0m \u001b[38;5;28;01mreturn\u001b[39;00m func(\u001b[38;5;241m*\u001b[39margs, \u001b[38;5;241m*\u001b[39m\u001b[38;5;241m*\u001b[39mkwargs)\n",
      "File \u001b[1;32m~\\anaconda3\\envs\\dev\\lib\\site-packages\\pandas\\util\\_decorators.py:331\u001b[0m, in \u001b[0;36mdeprecate_nonkeyword_arguments.<locals>.decorate.<locals>.wrapper\u001b[1;34m(*args, **kwargs)\u001b[0m\n\u001b[0;32m    325\u001b[0m \u001b[38;5;28;01mif\u001b[39;00m \u001b[38;5;28mlen\u001b[39m(args) \u001b[38;5;241m>\u001b[39m num_allow_args:\n\u001b[0;32m    326\u001b[0m     warnings\u001b[38;5;241m.\u001b[39mwarn(\n\u001b[0;32m    327\u001b[0m         msg\u001b[38;5;241m.\u001b[39mformat(arguments\u001b[38;5;241m=\u001b[39m_format_argument_list(allow_args)),\n\u001b[0;32m    328\u001b[0m         \u001b[38;5;167;01mFutureWarning\u001b[39;00m,\n\u001b[0;32m    329\u001b[0m         stacklevel\u001b[38;5;241m=\u001b[39mfind_stack_level(),\n\u001b[0;32m    330\u001b[0m     )\n\u001b[1;32m--> 331\u001b[0m \u001b[38;5;28;01mreturn\u001b[39;00m func(\u001b[38;5;241m*\u001b[39margs, \u001b[38;5;241m*\u001b[39m\u001b[38;5;241m*\u001b[39mkwargs)\n",
      "File \u001b[1;32m~\\anaconda3\\envs\\dev\\lib\\site-packages\\pandas\\io\\excel\\_base.py:482\u001b[0m, in \u001b[0;36mread_excel\u001b[1;34m(io, sheet_name, header, names, index_col, usecols, squeeze, dtype, engine, converters, true_values, false_values, skiprows, nrows, na_values, keep_default_na, na_filter, verbose, parse_dates, date_parser, thousands, decimal, comment, skipfooter, convert_float, mangle_dupe_cols, storage_options)\u001b[0m\n\u001b[0;32m    480\u001b[0m \u001b[38;5;28;01mif\u001b[39;00m \u001b[38;5;129;01mnot\u001b[39;00m \u001b[38;5;28misinstance\u001b[39m(io, ExcelFile):\n\u001b[0;32m    481\u001b[0m     should_close \u001b[38;5;241m=\u001b[39m \u001b[38;5;28;01mTrue\u001b[39;00m\n\u001b[1;32m--> 482\u001b[0m     io \u001b[38;5;241m=\u001b[39m \u001b[43mExcelFile\u001b[49m\u001b[43m(\u001b[49m\u001b[43mio\u001b[49m\u001b[43m,\u001b[49m\u001b[43m \u001b[49m\u001b[43mstorage_options\u001b[49m\u001b[38;5;241;43m=\u001b[39;49m\u001b[43mstorage_options\u001b[49m\u001b[43m,\u001b[49m\u001b[43m \u001b[49m\u001b[43mengine\u001b[49m\u001b[38;5;241;43m=\u001b[39;49m\u001b[43mengine\u001b[49m\u001b[43m)\u001b[49m\n\u001b[0;32m    483\u001b[0m \u001b[38;5;28;01melif\u001b[39;00m engine \u001b[38;5;129;01mand\u001b[39;00m engine \u001b[38;5;241m!=\u001b[39m io\u001b[38;5;241m.\u001b[39mengine:\n\u001b[0;32m    484\u001b[0m     \u001b[38;5;28;01mraise\u001b[39;00m \u001b[38;5;167;01mValueError\u001b[39;00m(\n\u001b[0;32m    485\u001b[0m         \u001b[38;5;124m\"\u001b[39m\u001b[38;5;124mEngine should not be specified when passing \u001b[39m\u001b[38;5;124m\"\u001b[39m\n\u001b[0;32m    486\u001b[0m         \u001b[38;5;124m\"\u001b[39m\u001b[38;5;124man ExcelFile - ExcelFile already has the engine set\u001b[39m\u001b[38;5;124m\"\u001b[39m\n\u001b[0;32m    487\u001b[0m     )\n",
      "File \u001b[1;32m~\\anaconda3\\envs\\dev\\lib\\site-packages\\pandas\\io\\excel\\_base.py:1652\u001b[0m, in \u001b[0;36mExcelFile.__init__\u001b[1;34m(self, path_or_buffer, engine, storage_options)\u001b[0m\n\u001b[0;32m   1650\u001b[0m     ext \u001b[38;5;241m=\u001b[39m \u001b[38;5;124m\"\u001b[39m\u001b[38;5;124mxls\u001b[39m\u001b[38;5;124m\"\u001b[39m\n\u001b[0;32m   1651\u001b[0m \u001b[38;5;28;01melse\u001b[39;00m:\n\u001b[1;32m-> 1652\u001b[0m     ext \u001b[38;5;241m=\u001b[39m \u001b[43minspect_excel_format\u001b[49m\u001b[43m(\u001b[49m\n\u001b[0;32m   1653\u001b[0m \u001b[43m        \u001b[49m\u001b[43mcontent_or_path\u001b[49m\u001b[38;5;241;43m=\u001b[39;49m\u001b[43mpath_or_buffer\u001b[49m\u001b[43m,\u001b[49m\u001b[43m \u001b[49m\u001b[43mstorage_options\u001b[49m\u001b[38;5;241;43m=\u001b[39;49m\u001b[43mstorage_options\u001b[49m\n\u001b[0;32m   1654\u001b[0m \u001b[43m    \u001b[49m\u001b[43m)\u001b[49m\n\u001b[0;32m   1655\u001b[0m     \u001b[38;5;28;01mif\u001b[39;00m ext \u001b[38;5;129;01mis\u001b[39;00m \u001b[38;5;28;01mNone\u001b[39;00m:\n\u001b[0;32m   1656\u001b[0m         \u001b[38;5;28;01mraise\u001b[39;00m \u001b[38;5;167;01mValueError\u001b[39;00m(\n\u001b[0;32m   1657\u001b[0m             \u001b[38;5;124m\"\u001b[39m\u001b[38;5;124mExcel file format cannot be determined, you must specify \u001b[39m\u001b[38;5;124m\"\u001b[39m\n\u001b[0;32m   1658\u001b[0m             \u001b[38;5;124m\"\u001b[39m\u001b[38;5;124man engine manually.\u001b[39m\u001b[38;5;124m\"\u001b[39m\n\u001b[0;32m   1659\u001b[0m         )\n",
      "File \u001b[1;32m~\\anaconda3\\envs\\dev\\lib\\site-packages\\pandas\\io\\excel\\_base.py:1525\u001b[0m, in \u001b[0;36minspect_excel_format\u001b[1;34m(content_or_path, storage_options)\u001b[0m\n\u001b[0;32m   1522\u001b[0m \u001b[38;5;28;01mif\u001b[39;00m \u001b[38;5;28misinstance\u001b[39m(content_or_path, \u001b[38;5;28mbytes\u001b[39m):\n\u001b[0;32m   1523\u001b[0m     content_or_path \u001b[38;5;241m=\u001b[39m BytesIO(content_or_path)\n\u001b[1;32m-> 1525\u001b[0m \u001b[38;5;28;01mwith\u001b[39;00m \u001b[43mget_handle\u001b[49m\u001b[43m(\u001b[49m\n\u001b[0;32m   1526\u001b[0m \u001b[43m    \u001b[49m\u001b[43mcontent_or_path\u001b[49m\u001b[43m,\u001b[49m\u001b[43m \u001b[49m\u001b[38;5;124;43m\"\u001b[39;49m\u001b[38;5;124;43mrb\u001b[39;49m\u001b[38;5;124;43m\"\u001b[39;49m\u001b[43m,\u001b[49m\u001b[43m \u001b[49m\u001b[43mstorage_options\u001b[49m\u001b[38;5;241;43m=\u001b[39;49m\u001b[43mstorage_options\u001b[49m\u001b[43m,\u001b[49m\u001b[43m \u001b[49m\u001b[43mis_text\u001b[49m\u001b[38;5;241;43m=\u001b[39;49m\u001b[38;5;28;43;01mFalse\u001b[39;49;00m\n\u001b[0;32m   1527\u001b[0m \u001b[43m\u001b[49m\u001b[43m)\u001b[49m \u001b[38;5;28;01mas\u001b[39;00m handle:\n\u001b[0;32m   1528\u001b[0m     stream \u001b[38;5;241m=\u001b[39m handle\u001b[38;5;241m.\u001b[39mhandle\n\u001b[0;32m   1529\u001b[0m     stream\u001b[38;5;241m.\u001b[39mseek(\u001b[38;5;241m0\u001b[39m)\n",
      "File \u001b[1;32m~\\anaconda3\\envs\\dev\\lib\\site-packages\\pandas\\io\\common.py:865\u001b[0m, in \u001b[0;36mget_handle\u001b[1;34m(path_or_buf, mode, encoding, compression, memory_map, is_text, errors, storage_options)\u001b[0m\n\u001b[0;32m    856\u001b[0m         handle \u001b[38;5;241m=\u001b[39m \u001b[38;5;28mopen\u001b[39m(\n\u001b[0;32m    857\u001b[0m             handle,\n\u001b[0;32m    858\u001b[0m             ioargs\u001b[38;5;241m.\u001b[39mmode,\n\u001b[1;32m   (...)\u001b[0m\n\u001b[0;32m    861\u001b[0m             newline\u001b[38;5;241m=\u001b[39m\u001b[38;5;124m\"\u001b[39m\u001b[38;5;124m\"\u001b[39m,\n\u001b[0;32m    862\u001b[0m         )\n\u001b[0;32m    863\u001b[0m     \u001b[38;5;28;01melse\u001b[39;00m:\n\u001b[0;32m    864\u001b[0m         \u001b[38;5;66;03m# Binary mode\u001b[39;00m\n\u001b[1;32m--> 865\u001b[0m         handle \u001b[38;5;241m=\u001b[39m \u001b[38;5;28;43mopen\u001b[39;49m\u001b[43m(\u001b[49m\u001b[43mhandle\u001b[49m\u001b[43m,\u001b[49m\u001b[43m \u001b[49m\u001b[43mioargs\u001b[49m\u001b[38;5;241;43m.\u001b[39;49m\u001b[43mmode\u001b[49m\u001b[43m)\u001b[49m\n\u001b[0;32m    866\u001b[0m     handles\u001b[38;5;241m.\u001b[39mappend(handle)\n\u001b[0;32m    868\u001b[0m \u001b[38;5;66;03m# Convert BytesIO or file objects passed with an encoding\u001b[39;00m\n",
      "\u001b[1;31mFileNotFoundError\u001b[0m: [Errno 2] No such file or directory: 'data/rankings_worksheet_2023-11-14.xlsx'"
     ]
    }
   ],
   "source": [
    "homeOnlySked = pd.read_csv('data/sked.csv', index_col=False)\n",
    "homeOnlySked\n",
    "\n",
    "completeSked = pd.read_csv('data/sked_full.csv', index_col=False)\n",
    "completeSked\n",
    "\n",
    "team_names = pd.read_csv('data/team_names.csv', index_col=False)\n",
    "team_names\n",
    "\n",
    "file_name = f\"data/allG_df_raw-{today.strftime('%Y-%m-%d')}.csv\"\n",
    "allG_df = pd.read_csv(file_name, index_col=False)\n",
    "allG_df\n",
    "\n",
    "file_name = f\"data/all_df_raw-{today.strftime('%Y-%m-%d')}.csv\"\n",
    "all_df = pd.read_csv(file_name, index_col=False)\n",
    "all_df\n",
    "\n",
    "team_names_only = team_names[['abbreviation', 'name']]\n",
    "\n",
    "all_df_forwards =  all_df.loc[all_df['position'] != 'D']\n",
    "all_df_defense =  all_df.loc[all_df['position'] == 'D']\n",
    "\n",
    "all_df_centers =  all_df.loc[all_df['secondaryPosition'] == 'C']\n",
    "all_df_wingers =  all_df.loc[all_df['secondaryPosition'] == 'W']\n",
    "\n",
    "file_name = f\"data/summary_stats-{today.strftime('%Y-%m-%d')}.csv\"\n",
    "player_bios = pd.read_csv(file_name, index_col=False)\n",
    "\n",
    "file_name = f\"data/rankings_worksheet_{(today-timedelta(days=5)).strftime('%Y-%m-%d')}.xlsx\"\n",
    "rankings = pd.read_excel(file_name)"
   ]
  },
  {
   "cell_type": "code",
   "execution_count": null,
   "id": "1910bb2f",
   "metadata": {},
   "outputs": [],
   "source": [
    "ordercolumns = rankings.columns.to_list()\n",
    "ordercolumns"
   ]
  },
  {
   "cell_type": "code",
   "execution_count": null,
   "id": "e63eee3c",
   "metadata": {},
   "outputs": [],
   "source": [
    "column_order = ['espnId',\n",
    " 'FullName',\n",
    " 'fantasyRemain',\n",
    " 'rank_2023-11-20',\n",
    " 'rank_2023-11-13',\n",
    " 'rank_2023-11-06',\n",
    " 'rank_2023-10-30',\n",
    " 'rank_2023-10-23',\n",
    " 'rank_2023-09-01'\n",
    "]"
   ]
  },
  {
   "cell_type": "code",
   "execution_count": null,
   "id": "97b2403b",
   "metadata": {},
   "outputs": [],
   "source": [
    "for index, row in rankings.iterrows():\n",
    "    try:\n",
    "        rankings.at[index,'fantasyRemain'] = player_bios.loc[player_bios['espnId'] == row['espnId']]['fantasyPointsRemain'].iloc[0]\n",
    "    except:\n",
    "        rankings.at[index,'fantasyRemain'] = 0\n",
    "\n",
    "\n",
    "rankings['rank_2023-11-20'] = rankings['fantasyRemain'].rank(ascending=False, method='min').astype(int)\n",
    "rankings \n",
    "\n",
    "rankings = rankings[column_order]\n",
    "rankings.sort_values('rank_2023-11-20')\n",
    "\n",
    "fixes = {\n",
    "    'Tim Stutzle': 'Tim Stützle',\n",
    "    'Jani Hakanpaa': 'Jani Hakanpää',\n",
    "    'Benoit-Olivier Groulx': 'Bo Groulx',\n",
    "    'Jesse Ylonen': 'Jesse Ylönen',\n",
    "    'Alexis Lafreniere': 'Alexis Lafrenière',\n",
    "    'Gustav Lindstrom': 'Gustav Lindström',\n",
    "    'Alexander Kerfoot': 'Alex Kerfoot',\n",
    "#     'Johnny Beecher': 'John Beecher',\n",
    "    'Samuel Walker': 'Sammy Walker',\n",
    "    'Alex Barre-Boulet': 'Alex Barré-Boulet'\n",
    "}\n",
    "\n",
    "inverse_fixes = {value: key for key, value in fixes.items()}\n",
    "\n",
    "rankings['FullName'].replace(fixes, inplace=True)\n",
    "rankings"
   ]
  },
  {
   "cell_type": "code",
   "execution_count": null,
   "id": "dfe2bc39",
   "metadata": {},
   "outputs": [],
   "source": [
    "player_bios\n",
    "remain_rank = 0\n",
    "for index, row in player_bios.iterrows():\n",
    "    try:\n",
    "        rank = rankings.loc[rankings['espnId'] == row['espnId']]['rank_2023-11-20'].iloc[0]\n",
    "        last_rank = rankings.loc[rankings['espnId'] == row['espnId']]['rank_2023-11-13'].iloc[0]\n",
    "    except:\n",
    "        rank = 300\n",
    "        last_rank = 300\n",
    "        \n",
    "    remain_rank += 1\n",
    "        \n",
    "    player_bios.at[index, 'remain_rank'] =  remain_rank\n",
    "    player_bios.at[index, 'last_rank'] =  last_rank\n",
    "    player_bios.at[index, 'rank'] =  rank\n",
    "    \n",
    "not_ranked = player_bios.loc[player_bios['rank'] == 300]\n",
    "for index, row in not_ranked.iterrows():\n",
    "    print(f\"{row['name']}: {row['remain_rank']}\")\n",
    "    if row['remain_rank'] > 300:\n",
    "        break\n",
    "\n",
    "print('-------------')        \n",
    "\n",
    "poor_rank = player_bios.loc[(player_bios['rank'] >= 250) & (player_bios['last_rank'] <= 250)]\n",
    "for index, row in poor_rank.iterrows():\n",
    "    print(f\"{row['name']}: {row['remain_rank']}\")\n"
   ]
  },
  {
   "cell_type": "code",
   "execution_count": null,
   "id": "802a913d",
   "metadata": {},
   "outputs": [],
   "source": [
    "def convert_to_slug(name):\n",
    "    # Convert to lowercase and replace spaces with hyphens\n",
    "    slug = name.lower().replace(' ', '-')\n",
    "    return slug"
   ]
  },
  {
   "cell_type": "code",
   "execution_count": null,
   "id": "d62e8d15",
   "metadata": {},
   "outputs": [],
   "source": [
    "player_bios['rank_by_pos'] = player_bios.groupby('default_pos')['rank'].rank(ascending=True)\n",
    "player_bios.head(50)"
   ]
  },
  {
   "cell_type": "code",
   "execution_count": null,
   "id": "0f37d887",
   "metadata": {},
   "outputs": [],
   "source": [
    "# player_bios.to_excel('data/manual-adjustments.xlsx')\n",
    "\n",
    "player_bios_adjusted = pd.read_excel('data/manual-adjustments.xlsx')\n",
    "\n",
    "# vasil = {'playerId': 8476883, 'name': 'A. Vasilevskiy', 'team': 'TBL', 'position': 'G', 'default_pos': 'G', 'espnId': 2976847, 'remain_rank': 55, 'fullName': 'Andrei Vasilevskiy'}\n",
    "# player_bios_adjusted = player_bios_adjusted.append(vasil, ignore_index=True)\n",
    "\n",
    "\n",
    "player_bios_adjusted = player_bios_adjusted.sort_values('remain_rank', ascending=True)\n",
    "player_bios_adjusted['rank'] = player_bios_adjusted['remain_rank'].rank(ascending=True, method='first')\n",
    "player_bios_adjusted['rank_by_pos'] = player_bios_adjusted.groupby('default_pos')['rank'].rank(ascending=True)\n",
    "player_bios_adjusted.head(60)"
   ]
  },
  {
   "cell_type": "code",
   "execution_count": null,
   "id": "dab52483",
   "metadata": {},
   "outputs": [],
   "source": [
    "espn_teams = {\n",
    "    'BOS': 'Bos',\n",
    "    'VGK': 'Vgk',\n",
    "    'NYR': 'NYR',\n",
    "    'VAN': 'Van',\n",
    "    'LAK': 'LA',\n",
    "    'DAL': 'Dal',\n",
    "    'FLA': 'Fla',\n",
    "    'COL': 'Col',\n",
    "    'WPG': 'Wpg',\n",
    "    'TOR': 'Tor',\n",
    "    'WSH': 'Wsh',\n",
    "    'CAR': 'Car',\n",
    "    'TBL': 'TB',\n",
    "    'PHI': 'Phi',\n",
    "    'DET': 'Det',\n",
    "    'ANA': 'Ana',\n",
    "    'ARI': 'Ari',\n",
    "    'SEA': 'Sea',\n",
    "    'NJD': 'NJ',\n",
    "    'STL': 'StL',\n",
    "    'NYI': 'NYI',\n",
    "    'OTT': 'Ott',\n",
    "    'PIT': 'Pit',\n",
    "    'MTL': 'Mon',\n",
    "    'BUF': 'Buf',\n",
    "    'CGY': 'Cgy',\n",
    "    'MIN': 'Min',\n",
    "    'NSH': 'Nsh',\n",
    "    'CBJ': 'Cls',\n",
    "    'EDM': 'Edm',\n",
    "    'CHI': 'Chi',\n",
    "    'SJS': 'SJ'\n",
    "}\n",
    "\n",
    "team_names_only['espn_name'] = team_names_only['abbreviation'].map(espn_teams)\n",
    "team_names_only"
   ]
  },
  {
   "cell_type": "code",
   "execution_count": null,
   "id": "9c5e39dd",
   "metadata": {},
   "outputs": [],
   "source": [
    "player_bios_adjusted['fullName'].replace(inverse_fixes, inplace=True)\n",
    "\n",
    "player_bios_adjusted"
   ]
  },
  {
   "cell_type": "code",
   "execution_count": null,
   "id": "c3804982",
   "metadata": {},
   "outputs": [],
   "source": [
    "# 1. <a href=\"http://www.espn.com/nhl/player/_/id/4024123/auston-matthews\">Auston Matthews</a>, C, Tor (C1) <br />\n",
    "\n",
    "ranking_module = pd.DataFrame()\n",
    "\n",
    "for index, row in player_bios_adjusted.iterrows():\n",
    "    base_string = '<a href=\"http://www.espn.com/nhl/player/_/id/'\n",
    "    rank = str(int(row['rank']))\n",
    "    Pid = str(row['espnId']) + '/'\n",
    "    name = row['fullName']\n",
    "    slug = convert_to_slug(name)\n",
    "    pos = row['default_pos']\n",
    "    team = team_names_only.loc[team_names_only['abbreviation'] == row['team']]['espn_name'].iloc[0]\n",
    "    pos_rank = pos + str(int(row['rank_by_pos']))\n",
    "    \n",
    "    assemble = rank + '. ' + base_string + Pid + slug + '\">' + name + '</a>, ' + pos + ', ' + team + ' (' + pos_rank + ')'\n",
    "    \n",
    "    temp = pd.DataFrame({'column': [assemble]})\n",
    "    \n",
    "    ranking_module = pd.concat([ranking_module, temp])\n",
    "    \n",
    "    print(f\"{assemble}\")\n",
    "    \n",
    "    if int(rank) == 250:\n",
    "        break\n"
   ]
  },
  {
   "cell_type": "code",
   "execution_count": null,
   "id": "cbedb169",
   "metadata": {},
   "outputs": [],
   "source": [
    "fileName = f\"data/2024Rankings-05-{(today+timedelta(days=1)).strftime('%b%d')}.xlsx\"\n",
    "ranking_module.to_excel(fileName, index=False, header=False)"
   ]
  },
  {
   "cell_type": "code",
   "execution_count": null,
   "id": "1393f534",
   "metadata": {},
   "outputs": [],
   "source": [
    "player_bios"
   ]
  }
 ],
 "metadata": {
  "kernelspec": {
   "display_name": "Python 3 (ipykernel)",
   "language": "python",
   "name": "python3"
  },
  "language_info": {
   "codemirror_mode": {
    "name": "ipython",
    "version": 3
   },
   "file_extension": ".py",
   "mimetype": "text/x-python",
   "name": "python",
   "nbconvert_exporter": "python",
   "pygments_lexer": "ipython3",
   "version": "3.10.11"
  }
 },
 "nbformat": 4,
 "nbformat_minor": 5
}
